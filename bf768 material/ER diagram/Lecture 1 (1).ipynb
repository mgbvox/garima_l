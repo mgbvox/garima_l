{
 "cells": [
  {
   "cell_type": "markdown",
   "metadata": {},
   "source": [
    "## BF768 ##\n",
    "### Introduction ###"
   ]
  },
  {
   "cell_type": "markdown",
   "metadata": {},
   "source": [
    "### Attendance ###\n",
    "\n",
    " * ### Where are you from ###\n"
   ]
  },
  {
   "cell_type": "markdown",
   "metadata": {},
   "source": [
    "### Review [Syllabus](syllabus.spring.2020.pdf) ###\n"
   ]
  },
  {
   "cell_type": "markdown",
   "metadata": {},
   "source": [
    "### Class Rules ###\n",
    "  * ### Be on time ###\n",
    "  * ### Five minute break after first hour ###"
   ]
  },
  {
   "cell_type": "markdown",
   "metadata": {},
   "source": [
    "### Assumptions about previous knowledge ###\n",
    " * ### Python ###\n",
    " * ### Command Line Instructions ###\n",
    " * ### Programming code editors ###"
   ]
  },
  {
   "cell_type": "markdown",
   "metadata": {},
   "source": [
    "### Discussion ###\n",
    " * ### What is biological data? ###"
   ]
  },
  {
   "cell_type": "markdown",
   "metadata": {},
   "source": [
    "\n",
    "### What is a database (DB)?  a database management system (DBMS)? ###\n",
    " * ### DB Examples ###\n",
    " * ### DB properties ###\n",
    "  * ### Organized information ###\n",
    "  * ### Way to look up information ###\n",
    "  * ### Rapid retrieval ###\n",
    "  * ### Flexibility in ways to look up information ###\n",
    "  * ### Flexibiility in presentation of results ###\n",
    "  * ### World wide access###\n",
    " * ### DBMS properties ### \n",
    "  * ### Complex data storage schemes ###\n",
    "  * ### Rules for how data is organized ###\n",
    "  * ### Fast retrieval with indexing ###\n",
    "  * ### Multiple simultaneous users ###\n",
    "  * ### Protects consistency of data ###  \n",
    "  * ### Recovery from system crashes ###\n",
    "\n",
    "  \n",
    "  \n",
    " "
   ]
  },
  {
   "cell_type": "markdown",
   "metadata": {},
   "source": [
    "### What we will learn ###\n",
    " * ### How to design and implement a relational database ###\n",
    " * ### How to put data into and get data out of a database ###\n",
    " * ### How to build a Python program to access a database ###\n",
    " * ### How to communicate with a database through a web browser ###\n",
    " * ### How to display database data in a web browser ###"
   ]
  },
  {
   "cell_type": "markdown",
   "metadata": {},
   "source": [
    "### Database Example ###\n",
    " * ### The Tandem Repeats Database: TRDB <https://tandem.bu.edu/cgi-bin/trdb/trdb.exe> ###\n",
    "  * ### login ###\n",
    "  * ### sets tab ###\n",
    "  * ### Public Database ###\n",
    "  * ### C. elegans 2004 ###\n",
    "  * ### Full genome ###\n",
    "  * ### Pattern Size >= 25 ###\n",
    "  * ### Copy number >= 10 ###\n",
    "  * ### First index >= 280723 ###\n",
    "  * ### First entry in table ###\n",
    "  "
   ]
  },
  {
   "cell_type": "markdown",
   "metadata": {},
   "source": [
    "### Database Example ###\n",
    " * ### VNTRdb <http://orca.bu.edu/vntrdb/vntr/182168460>###\n"
   ]
  },
  {
   "cell_type": "markdown",
   "metadata": {},
   "source": [
    "### Database Example ###\n",
    " * ### NAR Reviewer Database: <http://localhost/cgi-bin/nar.database.access16e.cgi?> ###\n",
    "   * ### look up keywords ###\n",
    "   * ### look up title words ###\n",
    "  \n",
    " "
   ]
  },
  {
   "cell_type": "markdown",
   "metadata": {},
   "source": [
    "### Show Sequel Pro ###"
   ]
  },
  {
   "cell_type": "markdown",
   "metadata": {},
   "source": [
    "### Print typical SQL queries ###"
   ]
  },
  {
   "cell_type": "code",
   "execution_count": 1,
   "metadata": {},
   "outputs": [
    {
     "name": "stdout",
     "output_type": "stream",
     "text": [
      "\n",
      "select id, max(name), count(name) as c\n",
      "from idName\n",
      "group by id\n",
      "having c>2\n",
      "\n"
     ]
    }
   ],
   "source": [
    "#people with more than one name in the database\n",
    "\n",
    "print( \n",
    "\"\"\"\n",
    "select id, max(name), count(name) as c\n",
    "from idName\n",
    "group by id\n",
    "having c>2\n",
    "\"\"\")\n"
   ]
  },
  {
   "cell_type": "code",
   "execution_count": null,
   "metadata": {},
   "outputs": [],
   "source": [
    "#show all the names for each person using group_concat()\n",
    "\n",
    "print( \n",
    "\"\"\"\n",
    "select id, group_concat(name separator '; '), count(name) as c\n",
    "from idName\n",
    "group by id\n",
    "having c>2\n",
    "\"\"\")\n",
    "\n",
    "#show all names as a vertical list\n",
    "\n",
    "print( \n",
    "\"\"\"\n",
    "select id, name \n",
    "from idName join \n",
    "(select id\n",
    " from idName \n",
    " group by id \n",
    " having count(id)> 2) as x \n",
    "using (id)\n",
    "\"\"\")\n",
    "\n"
   ]
  },
  {
   "cell_type": "markdown",
   "metadata": {},
   "source": [
    "### Access database directly from Jupyter notebook ###"
   ]
  },
  {
   "cell_type": "code",
   "execution_count": 2,
   "metadata": {},
   "outputs": [
    {
     "ename": "ModuleNotFoundError",
     "evalue": "No module named 'mysql'",
     "output_type": "error",
     "traceback": [
      "\u001b[0;31m---------------------------------------------------------------------------\u001b[0m",
      "\u001b[0;31mModuleNotFoundError\u001b[0m                       Traceback (most recent call last)",
      "\u001b[0;32m<ipython-input-2-6da3f8a890e1>\u001b[0m in \u001b[0;36m<module>\u001b[0;34m\u001b[0m\n\u001b[1;32m      2\u001b[0m \u001b[0;34m\u001b[0m\u001b[0m\n\u001b[1;32m      3\u001b[0m \u001b[0;31m#import module to connect to a mysql database\u001b[0m\u001b[0;34m\u001b[0m\u001b[0;34m\u001b[0m\u001b[0;34m\u001b[0m\u001b[0m\n\u001b[0;32m----> 4\u001b[0;31m \u001b[0;32mimport\u001b[0m \u001b[0mmysql\u001b[0m\u001b[0;34m.\u001b[0m\u001b[0mconnector\u001b[0m\u001b[0;34m\u001b[0m\u001b[0;34m\u001b[0m\u001b[0m\n\u001b[0m\u001b[1;32m      5\u001b[0m \u001b[0;34m\u001b[0m\u001b[0m\n\u001b[1;32m      6\u001b[0m \u001b[0;31m#create the connection with login details\u001b[0m\u001b[0;34m\u001b[0m\u001b[0;34m\u001b[0m\u001b[0;34m\u001b[0m\u001b[0m\n",
      "\u001b[0;31mModuleNotFoundError\u001b[0m: No module named 'mysql'"
     ]
    }
   ],
   "source": [
    "#get count of number of reviews returned for each number of days (1...max)\n",
    "\n",
    "#import module to connect to a mysql database\n",
    "import mysql.connector\n",
    "\n",
    "#create the connection with login details\n",
    "connection = mysql.connector.connect(user='root', password='',\n",
    "                                      host='127.0.0.1',\n",
    "                                      database='test')\n",
    "\n",
    "#the cursor sends and receives information from the database\n",
    "cursor = connection.cursor()\n",
    "\n",
    "#this is the SQL query to execute\n",
    "cursor.execute(\"\"\"select days, count(*) as c\n",
    "                    from idReviewers\n",
    "                    where days !=0\n",
    "                    group by days\"\"\")\n",
    "\n",
    "#ows receives the results of the query\n",
    "rows = cursor.fetchall()\n",
    "\n",
    "#the rows are displayed in order to see what happened\n",
    "print('Rows returned from table.  Each is a tuple:')\n",
    "for row in rows:\n",
    "    print(row)\n",
    "\n",
    "#each entry in rows is a tuple of two values\n",
    "#the next two lines split the values into two separate lists, days and counts\n",
    "days = list(row[0] for row in rows)\n",
    "counts = list(row[1] for row in rows)\n",
    "\n",
    "#the contents of days and counts is displayed to see what happened.\n",
    "print('\\nList of days:\\n',days)\n",
    "print('\\nList of counts:\\n',counts)\n"
   ]
  },
  {
   "cell_type": "markdown",
   "metadata": {},
   "source": [
    "### Create a barplot of time to return reviews ###"
   ]
  },
  {
   "cell_type": "code",
   "execution_count": null,
   "metadata": {},
   "outputs": [],
   "source": [
    "# use matplotlib\n",
    "import numpy as np\n",
    "import matplotlib.pyplot as plt\n",
    "\n",
    "#set size of figure\n",
    "plt.figure(figsize=[12, 6], dpi=100, facecolor='xkcd:wheat', edgecolor='k')\n",
    "\n",
    "#get bar positions\n",
    "x_pos = np.arange(len(days))\n",
    "\n",
    "#plot bars\n",
    "plt.bar(x_pos, counts, tick_label=days, align='center', alpha=1.0)\n",
    "\n",
    "#rotate bar labels\n",
    "plt.xticks(rotation=45)\n",
    "\n",
    "#set axis labels and title\n",
    "plt.ylabel('Count')\n",
    "plt.xlabel('Days from Accepting to Do Review')\n",
    "plt.title('Histogram: Time to return review')\n",
    "\n",
    "#draw the plot\n",
    "plt.show()\n",
    "\n"
   ]
  },
  {
   "cell_type": "markdown",
   "metadata": {},
   "source": [
    "### More SQL Queries ###"
   ]
  },
  {
   "cell_type": "code",
   "execution_count": null,
   "metadata": {},
   "outputs": [],
   "source": [
    "#To see how many reviews in total\n",
    "select count(*) as c\n",
    "from idReviewers\n",
    "where days !=0\n",
    "\n",
    "#To see how many reviews came in on time\n",
    "select sum(c) \n",
    "from \n",
    "(select days, count(*) as c\n",
    "from idReviewers\n",
    "where days !=0\n",
    "group by days) as x\n",
    "where days<=14\n",
    "\n",
    "#To see how many reviews came in late\n",
    "select sum(c) \n",
    "from \n",
    "(select days, count(*) as c\n",
    "from idReviewers\n",
    "where days <> 0\n",
    "group by days) as x\n",
    "where days>= 14\n"
   ]
  }
 ],
 "metadata": {
  "anaconda-cloud": {},
  "kernelspec": {
   "display_name": "Python 3",
   "language": "python",
   "name": "python3"
  },
  "language_info": {
   "codemirror_mode": {
    "name": "ipython",
    "version": 3
   },
   "file_extension": ".py",
   "mimetype": "text/x-python",
   "name": "python",
   "nbconvert_exporter": "python",
   "pygments_lexer": "ipython3",
   "version": "3.7.6"
  }
 },
 "nbformat": 4,
 "nbformat_minor": 4
}
